{
 "cells": [
  {
   "cell_type": "code",
   "execution_count": 1,
   "id": "e5f30bfb",
   "metadata": {},
   "outputs": [],
   "source": [
    "from dataclasses import dataclass"
   ]
  },
  {
   "cell_type": "code",
   "execution_count": 2,
   "id": "87a0d103",
   "metadata": {},
   "outputs": [],
   "source": [
    "@dataclass\n",
    "class Person():\n",
    "    name:str \n",
    "    age:int\n",
    "    city:str"
   ]
  },
  {
   "cell_type": "code",
   "execution_count": 3,
   "id": "af9233c5",
   "metadata": {},
   "outputs": [
    {
     "name": "stdout",
     "output_type": "stream",
     "text": [
      "Person(name='Tarun', age=20, city='guna')\n"
     ]
    }
   ],
   "source": [
    "person2= Person(name=\"Tarun\", age=20, city=\"guna\")\n",
    "print(person2)\n"
   ]
  },
  {
   "cell_type": "code",
   "execution_count": 5,
   "id": "98f64364",
   "metadata": {},
   "outputs": [
    {
     "data": {
      "text/plain": [
       "Person(name='Tarun', age=20, city=35)"
      ]
     },
     "execution_count": 5,
     "metadata": {},
     "output_type": "execute_result"
    }
   ],
   "source": [
    "person2 = Person(name=\"Tarun\", age=20, city=35)\n",
    "person2"
   ]
  },
  {
   "cell_type": "code",
   "execution_count": 6,
   "id": "fc94c9bc",
   "metadata": {},
   "outputs": [],
   "source": [
    "from pydantic import BaseModel"
   ]
  },
  {
   "cell_type": "code",
   "execution_count": 7,
   "id": "c4c400ab",
   "metadata": {},
   "outputs": [],
   "source": [
    "class Person1(BaseModel):\n",
    "    name:str\n",
    "    age:int\n",
    "    city:str"
   ]
  },
  {
   "cell_type": "code",
   "execution_count": null,
   "id": "144de39e",
   "metadata": {},
   "outputs": [
    {
     "name": "stdout",
     "output_type": "stream",
     "text": [
      "Person(name='Tarun', age=20, city='guna')\n"
     ]
    }
   ],
   "source": [
    "person = Person1(name=\"Tarun\", age=20, city=\"Guna\")\n",
    "print(person)"
   ]
  },
  {
   "cell_type": "code",
   "execution_count": null,
   "id": "4ee20970",
   "metadata": {},
   "outputs": [
    {
     "name": "stdout",
     "output_type": "stream",
     "text": [
      "name='Tarun' age=20 city='50'\n"
     ]
    }
   ],
   "source": [
    "person1 = Person1(name=\"Tarun\", age=20, city=\"50\")\n",
    "print (person1)"
   ]
  },
  {
   "cell_type": "code",
   "execution_count": 19,
   "id": "79259062",
   "metadata": {},
   "outputs": [],
   "source": [
    "from typing import Optional\n",
    "\n",
    "class Employee(BaseModel):\n",
    "    id:int\n",
    "    name:str\n",
    "    department:str\n",
    "    salary:Optional[float]=None\n",
    "    is_active:Optional[bool]=None\n",
    "    "
   ]
  },
  {
   "cell_type": "code",
   "execution_count": 20,
   "id": "ce166ed1",
   "metadata": {},
   "outputs": [
    {
     "name": "stdout",
     "output_type": "stream",
     "text": [
      "id=1 name='Tarun' department='CS' salary=None is_active=None\n"
     ]
    }
   ],
   "source": [
    "emp1=Employee(id=1,name=\"Tarun\",department=\"CS\")\n",
    "print(emp1)"
   ]
  },
  {
   "cell_type": "code",
   "execution_count": 21,
   "id": "022e62ff",
   "metadata": {},
   "outputs": [
    {
     "name": "stdout",
     "output_type": "stream",
     "text": [
      "id=1 name='Tarun' department='CS' salary=30000.0 is_active=None\n"
     ]
    }
   ],
   "source": [
    "emp2=Employee(id=1,name=\"Tarun\",department=\"CS\",salary=30000)\n",
    "print(emp2)"
   ]
  },
  {
   "cell_type": "code",
   "execution_count": 23,
   "id": "1d70f07c",
   "metadata": {},
   "outputs": [
    {
     "name": "stdout",
     "output_type": "stream",
     "text": [
      "id=1 name='Tarun' department='CS' salary=30000.0 is_active=True\n"
     ]
    }
   ],
   "source": [
    "emp3=Employee(id=1,name=\"Tarun\",department=\"CS\",salary=30000,is_active=True)\n",
    "print(emp3)"
   ]
  },
  {
   "cell_type": "code",
   "execution_count": 24,
   "id": "30852029",
   "metadata": {},
   "outputs": [],
   "source": [
    "from typing import List\n",
    "\n",
    "class Classroom(BaseModel):\n",
    "    room_number:str\n",
    "    students:List[str]\n",
    "    capacity:int\n",
    "\n",
    "    "
   ]
  },
  {
   "cell_type": "code",
   "execution_count": 26,
   "id": "51283540",
   "metadata": {},
   "outputs": [
    {
     "name": "stdout",
     "output_type": "stream",
     "text": [
      "room_number='A101' students=['tarun', 'anshul', 'shyam'] capacity=30\n"
     ]
    }
   ],
   "source": [
    "classroom = Classroom(\n",
    "    room_number=\"A101\",\n",
    "    students=(\"tarun\",\"anshul\",\"shyam\"),\n",
    "    capacity=30\n",
    "\n",
    ")\n",
    "\n",
    "print(classroom)"
   ]
  },
  {
   "cell_type": "code",
   "execution_count": 44,
   "id": "f9de4559",
   "metadata": {},
   "outputs": [
    {
     "data": {
      "text/plain": [
       "2"
      ]
     },
     "execution_count": 44,
     "metadata": {},
     "output_type": "execute_result"
    }
   ],
   "source": [
    "int(2.0)\n"
   ]
  },
  {
   "cell_type": "code",
   "execution_count": 48,
   "id": "5b725e45",
   "metadata": {},
   "outputs": [
    {
     "name": "stdout",
     "output_type": "stream",
     "text": [
      "1 validation error for Classroom\n",
      "students.1\n",
      "  Input should be a valid string [type=string_type, input_value=123, input_type=int]\n",
      "    For further information visit https://errors.pydantic.dev/2.11/v/string_type\n"
     ]
    }
   ],
   "source": [
    "try:\n",
    "    invalid_value = Classroom(room_number=\"A1\", students=[\"jame\", 123], capacity=30)\n",
    "except ValueError as e:\n",
    "    print(e)"
   ]
  },
  {
   "cell_type": "code",
   "execution_count": 52,
   "id": "08ea3d40",
   "metadata": {},
   "outputs": [],
   "source": [
    "from pydantic import BaseModel\n",
    "\n",
    "class Address(BaseModel):\n",
    "    street:str\n",
    "    city:str\n",
    "    zip_code:int\n",
    "\n",
    "class Customer(BaseModel):\n",
    "   customer_id:str\n",
    "   name:str\n",
    "   address:Address #Nested Model"
   ]
  },
  {
   "cell_type": "code",
   "execution_count": 53,
   "id": "6dd09536",
   "metadata": {},
   "outputs": [
    {
     "name": "stdout",
     "output_type": "stream",
     "text": [
      "customer_id='co1' name='Tarun' address=Address(street='Main Street', city='Guna', zip_code=123)\n"
     ]
    }
   ],
   "source": [
    "customer=Customer(\n",
    "    customer_id=\"co1\",\n",
    "    name=\"Tarun\",\n",
    "    address={\"street\" :\"Main Street\", \"city\":\"Guna\", \"zip_code\":123})\n",
    "print (customer)"
   ]
  },
  {
   "cell_type": "code",
   "execution_count": null,
   "id": "9351c7df",
   "metadata": {},
   "outputs": [],
   "source": []
  }
 ],
 "metadata": {
  "kernelspec": {
   "display_name": "venv",
   "language": "python",
   "name": "python3"
  },
  "language_info": {
   "codemirror_mode": {
    "name": "ipython",
    "version": 3
   },
   "file_extension": ".py",
   "mimetype": "text/x-python",
   "name": "python",
   "nbconvert_exporter": "python",
   "pygments_lexer": "ipython3",
   "version": "3.13.5"
  }
 },
 "nbformat": 4,
 "nbformat_minor": 5
}
